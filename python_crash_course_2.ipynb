{
  "nbformat": 4,
  "nbformat_minor": 0,
  "metadata": {
    "colab": {
      "provenance": [],
      "authorship_tag": "ABX9TyOo5CQBVghKFFfBdBFLsIKG",
      "include_colab_link": true
    },
    "kernelspec": {
      "name": "python3",
      "display_name": "Python 3"
    },
    "language_info": {
      "name": "python"
    }
  },
  "cells": [
    {
      "cell_type": "markdown",
      "metadata": {
        "id": "view-in-github",
        "colab_type": "text"
      },
      "source": [
        "<a href=\"https://colab.research.google.com/github/rkdsai/pythonpractice/blob/main/python_crash_course_2.ipynb\" target=\"_parent\"><img src=\"https://colab.research.google.com/assets/colab-badge.svg\" alt=\"Open In Colab\"/></a>"
      ]
    },
    {
      "cell_type": "markdown",
      "source": [
        "## Functions"
      ],
      "metadata": {
        "id": "PA58bL8K7kfb"
      }
    },
    {
      "cell_type": "code",
      "execution_count": null,
      "metadata": {
        "colab": {
          "base_uri": "https://localhost:8080/"
        },
        "id": "-wclriKg7O1e",
        "outputId": "c9834f10-6896-42a2-8b20-0e419f589d58"
      },
      "outputs": [
        {
          "output_type": "stream",
          "name": "stdout",
          "text": [
            "Hello!\n"
          ]
        }
      ],
      "source": [
        "def greet_user():\n",
        "  #Display a simple greeting.\n",
        "  print(\"Hello!\")\n",
        "greet_user()"
      ]
    },
    {
      "cell_type": "code",
      "source": [
        "def greet_user(username):\n",
        "    #Display a simple greeting.\n",
        "    print(f\"Hello, {username.title()}!\")\n",
        "greet_user('jesse')"
      ],
      "metadata": {
        "colab": {
          "base_uri": "https://localhost:8080/"
        },
        "id": "2q4yxG9d8E1B",
        "outputId": "e675ae4b-35bc-47c2-f138-b9a441dcc13e"
      },
      "execution_count": null,
      "outputs": [
        {
          "output_type": "stream",
          "name": "stdout",
          "text": [
            "Hello, Jesse!\n"
          ]
        }
      ]
    },
    {
      "cell_type": "markdown",
      "source": [
        " Passing Arguments\n",
        "\n",
        " Positional Arguments\n"
      ],
      "metadata": {
        "id": "DiPvF7CA-OkZ"
      }
    },
    {
      "cell_type": "code",
      "source": [
        "def describe_pet(animal_type, pet_name):\n",
        "    #Display information about a pet.\"\"\"\n",
        "    print(f\"I have a {animal_type}.\")\n",
        "    print(f\"\\tMy {animal_type}'s name is {pet_name.title()}.\")\n",
        "describe_pet('hamster', 'harry')"
      ],
      "metadata": {
        "colab": {
          "base_uri": "https://localhost:8080/"
        },
        "id": "GPX4vxVs-L0L",
        "outputId": "5b192a04-3374-4b4b-9646-984b419c1838"
      },
      "execution_count": null,
      "outputs": [
        {
          "output_type": "stream",
          "name": "stdout",
          "text": [
            "I have a hamster.\n",
            "\tMy hamster's name is Harry.\n"
          ]
        }
      ]
    },
    {
      "cell_type": "code",
      "source": [
        "def describe_pet(animal_type, pet_name):\n",
        "    #Display information about a pet.\"\"\"\n",
        "    print(f\"\\nI have a {animal_type}.\")\n",
        "    print(f\"My {animal_type}'s name is {pet_name.title()}.\")\n",
        "describe_pet('hamster', 'harry')\n",
        "describe_pet('dog', 'willie')"
      ],
      "metadata": {
        "colab": {
          "base_uri": "https://localhost:8080/"
        },
        "id": "DVWtt350-eAb",
        "outputId": "7a0a6051-5634-4c65-9b94-fe91bff5f0ee"
      },
      "execution_count": null,
      "outputs": [
        {
          "output_type": "stream",
          "name": "stdout",
          "text": [
            "\n",
            "I have a hamster.\n",
            "My hamster's name is Harry.\n",
            "\n",
            "I have a dog.\n",
            "My dog's name is Willie.\n"
          ]
        }
      ]
    },
    {
      "cell_type": "markdown",
      "source": [
        " Order Matters in Positional Arguments\n"
      ],
      "metadata": {
        "id": "RoNhb53v-rZS"
      }
    },
    {
      "cell_type": "code",
      "source": [
        " def describe_pet(animal_type, pet_name):\n",
        "    \"\"\"Display information about a pet.\"\"\"\n",
        "    print(f\"\\nI have a {animal_type}.\")\n",
        "    print(f\"My {animal_type}'s name is {pet_name.title()}.\")\n",
        " describe_pet('harry', 'hamster')"
      ],
      "metadata": {
        "colab": {
          "base_uri": "https://localhost:8080/"
        },
        "id": "VvIhNxh9-kFr",
        "outputId": "5279cb29-d4c6-4c79-f4a5-97288934060b"
      },
      "execution_count": null,
      "outputs": [
        {
          "output_type": "stream",
          "name": "stdout",
          "text": [
            "\n",
            "I have a harry.\n",
            "My harry's name is Hamster.\n"
          ]
        }
      ]
    },
    {
      "cell_type": "markdown",
      "source": [
        " Keyword Arguments\n"
      ],
      "metadata": {
        "id": "uKz0Wewk-2KK"
      }
    },
    {
      "cell_type": "code",
      "source": [
        "def describe_pet(animal_type, pet_name):\n",
        "    \"\"\"Display information about a pet.\"\"\"\n",
        "    print(f\"\\nI have a {animal_type}.\")\n",
        "    print(f\"My {animal_type}'s name is {pet_name.title()}.\")\n",
        "describe_pet(animal_type='hamster', pet_name='harry')"
      ],
      "metadata": {
        "colab": {
          "base_uri": "https://localhost:8080/"
        },
        "id": "g4URtUoL-2ay",
        "outputId": "e19c0aeb-148a-4757-c878-fb41f3466427"
      },
      "execution_count": null,
      "outputs": [
        {
          "output_type": "stream",
          "name": "stdout",
          "text": [
            "\n",
            "I have a hamster.\n",
            "My hamster's name is Harry.\n"
          ]
        }
      ]
    },
    {
      "cell_type": "code",
      "source": [
        " describe_pet(animal_type='hamster', pet_name='harry')\n",
        " describe_pet(pet_name='harry', animal_type='hamster')"
      ],
      "metadata": {
        "colab": {
          "base_uri": "https://localhost:8080/"
        },
        "id": "K8DbEPJi_LVp",
        "outputId": "23bd09b5-eceb-4144-9092-5ec679abf1d7"
      },
      "execution_count": null,
      "outputs": [
        {
          "output_type": "stream",
          "name": "stdout",
          "text": [
            "\n",
            "I have a hamster.\n",
            "My hamster's name is Harry.\n",
            "\n",
            "I have a hamster.\n",
            "My hamster's name is Harry.\n"
          ]
        }
      ]
    },
    {
      "cell_type": "markdown",
      "source": [
        " Default Values\n"
      ],
      "metadata": {
        "id": "vf1mgNUH_O65"
      }
    },
    {
      "cell_type": "code",
      "source": [
        "def describe_pet(pet_name, animal_type='dog'):\n",
        " #Display information about a pet.\"\"\"\n",
        "    print(f\"\\nI have a {animal_type}.\")\n",
        "    print(f\"My {animal_type}'s name is {pet_name.title()}.\")\n",
        "describe_pet(pet_name='willie')"
      ],
      "metadata": {
        "colab": {
          "base_uri": "https://localhost:8080/"
        },
        "id": "Qr1_s0vc_Lnn",
        "outputId": "35cc270c-5b69-417f-b2bd-0c7b88c8e810"
      },
      "execution_count": null,
      "outputs": [
        {
          "output_type": "stream",
          "name": "stdout",
          "text": [
            "\n",
            "I have a dog.\n",
            "My dog's name is Willie.\n"
          ]
        }
      ]
    },
    {
      "cell_type": "code",
      "source": [
        "describe_pet('willie')\n"
      ],
      "metadata": {
        "colab": {
          "base_uri": "https://localhost:8080/"
        },
        "id": "TQaVHJ6Q_X9B",
        "outputId": "eeaf06ad-e406-4680-e8d5-da9ff58cf2a8"
      },
      "execution_count": null,
      "outputs": [
        {
          "output_type": "stream",
          "name": "stdout",
          "text": [
            "\n",
            "I have a dog.\n",
            "My dog's name is Willie.\n"
          ]
        }
      ]
    },
    {
      "cell_type": "code",
      "source": [
        "describe_pet(pet_name='harry', animal_type='hamster')"
      ],
      "metadata": {
        "colab": {
          "base_uri": "https://localhost:8080/"
        },
        "id": "5j-0PiJS_Yq0",
        "outputId": "c8a78536-c8d8-4ed3-d6ce-14b6c2a15dac"
      },
      "execution_count": null,
      "outputs": [
        {
          "output_type": "stream",
          "name": "stdout",
          "text": [
            "\n",
            "I have a hamster.\n",
            "My hamster's name is Harry.\n"
          ]
        }
      ]
    },
    {
      "cell_type": "markdown",
      "source": [
        " Equivalent Function Calls\n"
      ],
      "metadata": {
        "id": "I1MPOI9x_gQM"
      }
    },
    {
      "cell_type": "code",
      "source": [
        " # A dog named Willie.\n",
        " describe_pet('willie')\n",
        " describe_pet(pet_name='willie')\n",
        " # A hamster named Harry.\n",
        " describe_pet('harry', 'hamster')\n",
        " describe_pet(pet_name='harry', animal_type='hamster')\n",
        " describe_pet(animal_type='hamster', pet_name='harry')"
      ],
      "metadata": {
        "colab": {
          "base_uri": "https://localhost:8080/"
        },
        "id": "UOPGog9C_bRZ",
        "outputId": "0753374c-c004-41fd-b3d3-860412e1ac1f"
      },
      "execution_count": null,
      "outputs": [
        {
          "output_type": "stream",
          "name": "stdout",
          "text": [
            "\n",
            "I have a dog.\n",
            "My dog's name is Willie.\n",
            "\n",
            "I have a dog.\n",
            "My dog's name is Willie.\n",
            "\n",
            "I have a hamster.\n",
            "My hamster's name is Harry.\n",
            "\n",
            "I have a hamster.\n",
            "My hamster's name is Harry.\n",
            "\n",
            "I have a hamster.\n",
            "My hamster's name is Harry.\n"
          ]
        }
      ]
    },
    {
      "cell_type": "markdown",
      "source": [
        " Return Values\n",
        "\n",
        "Returning a Simple Value\n"
      ],
      "metadata": {
        "id": "0qiDip2a_11k"
      }
    },
    {
      "cell_type": "code",
      "source": [
        "def get_formatted_name(first_name, last_name):\n",
        " #Return a full name, neatly formatted.\"\"\"\n",
        "  full_name = f\"{first_name} {last_name}\"\n",
        "  return full_name.title()\n",
        "musician = get_formatted_name('jimi', 'hendrix')\n",
        "print(musician)"
      ],
      "metadata": {
        "colab": {
          "base_uri": "https://localhost:8080/"
        },
        "id": "UBd-zifC_w8E",
        "outputId": "d574f525-318e-4938-e648-9fd93fa4738f"
      },
      "execution_count": null,
      "outputs": [
        {
          "output_type": "stream",
          "name": "stdout",
          "text": [
            "Jimi Hendrix\n"
          ]
        }
      ]
    },
    {
      "cell_type": "markdown",
      "source": [
        " Making an Argument Optional\n"
      ],
      "metadata": {
        "id": "lshX-dBXAEU6"
      }
    },
    {
      "cell_type": "code",
      "source": [
        " def get_formatted_name(first_name, middle_name, last_name):\n",
        "    \"\"\"Return a full name, neatly formatted.\"\"\"\n",
        "    full_name = f\"{first_name} {middle_name} {last_name}\"\n",
        "    return full_name.title()\n",
        " musician = get_formatted_name('john', 'lee', 'hooker')\n",
        " print(musician)"
      ],
      "metadata": {
        "colab": {
          "base_uri": "https://localhost:8080/"
        },
        "id": "ww_AXRPLAEi2",
        "outputId": "85bf804c-5d0c-412e-9e76-a639f7a75fee"
      },
      "execution_count": null,
      "outputs": [
        {
          "output_type": "stream",
          "name": "stdout",
          "text": [
            "John Lee Hooker\n"
          ]
        }
      ]
    },
    {
      "cell_type": "code",
      "source": [
        "def get_formatted_name(first_name, last_name, middle_name=''):\n",
        " #Return a full name, neatly formatted.\"\"\"\n",
        "  if middle_name:\n",
        "    full_name = f\"{first_name} {middle_name} {last_name}\"\n",
        "  else:\n",
        "    full_name = f\"{first_name} {last_name}\"\n",
        "  return full_name.title()\n",
        "musician = get_formatted_name('jimi', 'hendrix')\n",
        "print(musician)\n",
        "musician = get_formatted_name('john', 'hooker', 'lee')\n",
        "print(musician)"
      ],
      "metadata": {
        "colab": {
          "base_uri": "https://localhost:8080/"
        },
        "id": "XAJqVdV4AGTD",
        "outputId": "1adfea6b-ce15-462d-9fc0-47d50c33ab60"
      },
      "execution_count": null,
      "outputs": [
        {
          "output_type": "stream",
          "name": "stdout",
          "text": [
            "Jimi Hendrix\n",
            "John Lee Hooker\n"
          ]
        }
      ]
    },
    {
      "cell_type": "markdown",
      "source": [
        " Returning a Dictionary\n"
      ],
      "metadata": {
        "id": "87KA_TerAUQd"
      }
    },
    {
      "cell_type": "code",
      "source": [
        "def build_person(first_name, last_name):\n",
        "    #Return a dictionary of information about a person.\"\"\"\n",
        "  person = {'first': first_name, 'last': last_name}\n",
        "  return person\n",
        "musician = build_person('jimi', 'hendrix')\n",
        "print(musician)"
      ],
      "metadata": {
        "colab": {
          "base_uri": "https://localhost:8080/"
        },
        "id": "GXHifgcCAUlx",
        "outputId": "de7fbb15-b263-4198-b050-052ff49c3557"
      },
      "execution_count": null,
      "outputs": [
        {
          "output_type": "stream",
          "name": "stdout",
          "text": [
            "{'first': 'jimi', 'last': 'hendrix'}\n"
          ]
        }
      ]
    },
    {
      "cell_type": "code",
      "source": [
        "def build_person(first_name, last_name, age=None):\n",
        "    #Return a dictionary of information about a person.\"\"\"\n",
        "  person = {'first': first_name, 'last': last_name}\n",
        "  if age:\n",
        "    person['age'] = age\n",
        "  return person\n",
        "musician = build_person('jimi', 'hendrix', age=27)\n",
        "print(musician)"
      ],
      "metadata": {
        "colab": {
          "base_uri": "https://localhost:8080/"
        },
        "id": "GpXNcU2tA4D8",
        "outputId": "9eb3f166-df40-4e2f-d3c3-6f421669bfdb"
      },
      "execution_count": null,
      "outputs": [
        {
          "output_type": "stream",
          "name": "stdout",
          "text": [
            "{'first': 'jimi', 'last': 'hendrix', 'age': 27}\n"
          ]
        }
      ]
    },
    {
      "cell_type": "markdown",
      "source": [
        " Using a Function with a while Loop\n"
      ],
      "metadata": {
        "id": "zhjDLgv3BAz7"
      }
    },
    {
      "cell_type": "code",
      "source": [
        "def get_formatted_name(first_name, last_name):\n",
        "    \"\"\"Return a full name, neatly formatted.\"\"\"\n",
        "    full_name = f\"{first_name} {last_name}\"\n",
        "    return full_name.title()\n",
        "# This is an infinite loop!\n",
        "while True:\n",
        "  print(\"\\nPlease tell me your name:\")\n",
        "  f_name = input(\"First name: \")\n",
        "  l_name = input(\"Last name: \")\n",
        "  formatted_name = get_formatted_name(f_name, l_name)\n",
        "  print(f\"\\nHello, {formatted_name}!\")"
      ],
      "metadata": {
        "id": "uKo49nE_BBFu"
      },
      "execution_count": null,
      "outputs": []
    },
    {
      "cell_type": "markdown",
      "source": [
        "Passing a List\n"
      ],
      "metadata": {
        "id": "GLKjEl6ZBb7K"
      }
    },
    {
      "cell_type": "code",
      "source": [
        "def greet_users(names):\n",
        "    \"\"\"Print a simple greeting to each user in the list.\"\"\"\n",
        "    for name in names:\n",
        "        msg = f\"Hello, {name.title()}!\"\n",
        "        print(msg)\n",
        "usernames = ['hannah', 'ty', 'margot']\n",
        "greet_users(usernames)"
      ],
      "metadata": {
        "colab": {
          "base_uri": "https://localhost:8080/"
        },
        "id": "srcgWCjTBNUc",
        "outputId": "6ae25566-a9ba-4cf2-b0f6-473139ea85d8"
      },
      "execution_count": null,
      "outputs": [
        {
          "output_type": "stream",
          "name": "stdout",
          "text": [
            "Hello, Hannah!\n",
            "Hello, Ty!\n",
            "Hello, Margot!\n"
          ]
        }
      ]
    },
    {
      "cell_type": "markdown",
      "source": [
        " Modifying a List in a Function\n"
      ],
      "metadata": {
        "id": "LWM0-vuDBlGK"
      }
    },
    {
      "cell_type": "code",
      "source": [
        "# Start with some designs that need to be printed.\n",
        "unprinted_designs = ['phone case', 'robot pendant', 'dodecahedron']\n",
        "completed_models = []\n",
        "# Simulate printing each design, until none are left.\n",
        "#  Move each design to completed_models after printing.\n",
        "while unprinted_designs:\n",
        "  current_design = unprinted_designs.pop()\n",
        "  print(f\"Printing model: {current_design}\")\n",
        "  completed_models.append(current_design)\n",
        "# Display all completed models.\n",
        "print(\"\\nThe following models have been printed:\")\n",
        "for completed_model in completed_models:\n",
        "  print(completed_model)"
      ],
      "metadata": {
        "colab": {
          "base_uri": "https://localhost:8080/"
        },
        "id": "9mEDTaOUBlWx",
        "outputId": "2fb62bbf-8b27-491b-dca0-8c7195aae727"
      },
      "execution_count": null,
      "outputs": [
        {
          "output_type": "stream",
          "name": "stdout",
          "text": [
            "Printing model: dodecahedron\n",
            "Printing model: robot pendant\n",
            "Printing model: phone case\n",
            "\n",
            "The following models have been printed:\n",
            "dodecahedron\n",
            "robot pendant\n",
            "phone case\n"
          ]
        }
      ]
    },
    {
      "cell_type": "code",
      "source": [
        "def print_models(unprinted_designs, completed_models):\n",
        "    \"\"\"\n",
        "    Simulate printing each design, until none are left.\n",
        "    Move each design to completed_models after printing.\n",
        "    \"\"\"\n",
        "    while unprinted_designs:\n",
        "        current_design = unprinted_designs.pop()\n",
        "        print(f\"Printing model: {current_design}\")\n",
        "        completed_models.append(current_design)\n",
        "def show_completed_models(completed_models):\n",
        "    \"\"\"Show all the models that were printed.\"\"\"\n",
        "    print(\"\\nThe following models have been printed:\")\n",
        "    for completed_model in completed_models:\n",
        "        print(completed_model)\n",
        "unprinted_designs = ['phone case', 'robot pendant', 'dodecahedron']\n",
        "completed_models = []\n",
        "print_models(unprinted_designs, completed_models)\n",
        "show_completed_models(completed_models)"
      ],
      "metadata": {
        "colab": {
          "base_uri": "https://localhost:8080/"
        },
        "id": "5MvrPZOVB3R5",
        "outputId": "1780b997-f35d-4e85-9e6c-5162e43fb8d6"
      },
      "execution_count": null,
      "outputs": [
        {
          "output_type": "stream",
          "name": "stdout",
          "text": [
            "Printing model: dodecahedron\n",
            "Printing model: robot pendant\n",
            "Printing model: phone case\n",
            "\n",
            "The following models have been printed:\n",
            "dodecahedron\n",
            "robot pendant\n",
            "phone case\n"
          ]
        }
      ]
    },
    {
      "cell_type": "markdown",
      "source": [
        "Passing an Arbitrary Number of Arguments\n"
      ],
      "metadata": {
        "id": "uHdeAfCKCU4T"
      }
    },
    {
      "cell_type": "code",
      "source": [
        "def make_pizza(*toppings):\n",
        "    #Print the list of toppings that have been requested.\"\"\"\n",
        "    print(toppings)\n",
        "make_pizza('pepperoni')\n",
        "make_pizza('mushrooms', 'green peppers', 'extra cheese')"
      ],
      "metadata": {
        "colab": {
          "base_uri": "https://localhost:8080/"
        },
        "id": "3ip1vKo3CVNs",
        "outputId": "619688e6-1681-4d01-b8ba-86cb3ab0bb9d"
      },
      "execution_count": null,
      "outputs": [
        {
          "output_type": "stream",
          "name": "stdout",
          "text": [
            "('pepperoni',)\n",
            "('mushrooms', 'green peppers', 'extra cheese')\n"
          ]
        }
      ]
    },
    {
      "cell_type": "code",
      "source": [
        "def make_pizza(*toppings):\n",
        " #Summarize the pizza we are about to make.\"\"\"\n",
        "    print(\"\\nMaking a pizza with the following toppings:\")\n",
        "    for topping in toppings:\n",
        "        print(f\"- {topping}\")\n",
        "make_pizza('pepperoni')\n",
        "make_pizza('mushrooms', 'green peppers', 'extra cheese')"
      ],
      "metadata": {
        "colab": {
          "base_uri": "https://localhost:8080/"
        },
        "id": "UTP4ipAWCbR6",
        "outputId": "12fa3e1c-6712-472d-9eba-410173a61418"
      },
      "execution_count": null,
      "outputs": [
        {
          "output_type": "stream",
          "name": "stdout",
          "text": [
            "\n",
            "Making a pizza with the following toppings:\n",
            "- pepperoni\n",
            "\n",
            "Making a pizza with the following toppings:\n",
            "- mushrooms\n",
            "- green peppers\n",
            "- extra cheese\n"
          ]
        }
      ]
    },
    {
      "cell_type": "markdown",
      "source": [
        " Mixing Positional and Arbitrary Arguments\n"
      ],
      "metadata": {
        "id": "PnH_j3v-CoVU"
      }
    },
    {
      "cell_type": "code",
      "source": [
        "def make_pizza(size, *toppings):\n",
        "#Summarize the pizza we are about to make.\"\"\"\n",
        "    print(f\"\\nMaking a {size}-inch pizza with the following toppings:\")\n",
        "    for topping in toppings:\n",
        "        print(f\"- {topping}\")\n",
        "make_pizza(16, 'pepperoni')\n",
        "make_pizza(12, 'mushrooms', 'green peppers', 'extra cheese')"
      ],
      "metadata": {
        "colab": {
          "base_uri": "https://localhost:8080/"
        },
        "id": "mwqNCrtcComY",
        "outputId": "1cc49087-d739-4fd1-ae72-5f69615d636a"
      },
      "execution_count": null,
      "outputs": [
        {
          "output_type": "stream",
          "name": "stdout",
          "text": [
            "\n",
            "Making a 16-inch pizza with the following toppings:\n",
            "- pepperoni\n",
            "\n",
            "Making a 12-inch pizza with the following toppings:\n",
            "- mushrooms\n",
            "- green peppers\n",
            "- extra cheese\n"
          ]
        }
      ]
    },
    {
      "cell_type": "markdown",
      "source": [
        " Using Arbitrary Keyword Arguments\n"
      ],
      "metadata": {
        "id": "BPGYLUxMC6uC"
      }
    },
    {
      "cell_type": "code",
      "source": [
        "def build_profile(first, last, **user_info):\n",
        "    #Build a dictionary containing everything we know about a user.\"\"\"\n",
        "  user_info['first_name'] = first\n",
        "  user_info['last_name'] = last\n",
        "  return user_info\n",
        "user_profile = build_profile('albert', 'einstein',\n",
        "                             location='princeton',\n",
        "                             field='physics')\n",
        "print(user_profile)"
      ],
      "metadata": {
        "colab": {
          "base_uri": "https://localhost:8080/"
        },
        "id": "oYDxGOoGC497",
        "outputId": "d6340914-86b5-4e77-8960-792b29219cca"
      },
      "execution_count": null,
      "outputs": [
        {
          "output_type": "stream",
          "name": "stdout",
          "text": [
            "{'location': 'princeton', 'field': 'physics', 'first_name': 'albert', 'last_name': 'einstein'}\n"
          ]
        }
      ]
    },
    {
      "cell_type": "markdown",
      "source": [
        " Storing Your Functions in Modules\n"
      ],
      "metadata": {
        "id": "ofJWUwGADGw7"
      }
    },
    {
      "cell_type": "code",
      "source": [
        "# save in new file named pizza.py\n",
        "def make_pizza(size, *toppings):\n",
        "    \"\"\"Summarize the pizza we are about to make.\"\"\"\n",
        "    print(f\"\\nMaking a {size}-inch pizza with the following toppings:\")\n",
        "    for topping in toppings:\n",
        "        print(f\"- {topping}\")"
      ],
      "metadata": {
        "id": "i0JuFqDIDhDU"
      },
      "execution_count": null,
      "outputs": []
    },
    {
      "cell_type": "code",
      "source": [
        "import pizza\n",
        "pizza.make_pizza(16, 'pepperoni')\n",
        "pizza.make_pizza(12, 'mushrooms', 'green peppers', 'extra cheese')"
      ],
      "metadata": {
        "colab": {
          "base_uri": "https://localhost:8080/"
        },
        "id": "xUBeQaisDHC2",
        "outputId": "6f27d622-1525-4614-d798-e7971452a9f1"
      },
      "execution_count": null,
      "outputs": [
        {
          "output_type": "stream",
          "name": "stdout",
          "text": [
            "\n",
            "Making a 16-inch pizza with the following toppings:\n",
            "- pepperoni\n",
            "\n",
            "Making a 12-inch pizza with the following toppings:\n",
            "- mushrooms\n",
            "- green peppers\n",
            "- extra cheese\n"
          ]
        }
      ]
    },
    {
      "cell_type": "markdown",
      "source": [
        " Using as to Give a Function an Alias"
      ],
      "metadata": {
        "id": "xfu-2cLHDpOs"
      }
    },
    {
      "cell_type": "code",
      "source": [
        "from pizza import make_pizza as mp\n",
        "mp(16, 'pepperoni')\n",
        "mp(12, 'mushrooms', 'green peppers', 'extra cheese')"
      ],
      "metadata": {
        "colab": {
          "base_uri": "https://localhost:8080/"
        },
        "id": "ZHlnaMgEDpg3",
        "outputId": "a03e2a2c-2771-41f4-96e0-907f679bc1e4"
      },
      "execution_count": null,
      "outputs": [
        {
          "output_type": "stream",
          "name": "stdout",
          "text": [
            "\n",
            "Making a 16-inch pizza with the following toppings:\n",
            "- pepperoni\n",
            "\n",
            "Making a 12-inch pizza with the following toppings:\n",
            "- mushrooms\n",
            "- green peppers\n",
            "- extra cheese\n"
          ]
        }
      ]
    },
    {
      "cell_type": "markdown",
      "source": [
        "  The general syntax for providing an alias is:\n",
        "  \n",
        "  from module_name import function_name as fn\n"
      ],
      "metadata": {
        "id": "D_2z8dV7D1yz"
      }
    },
    {
      "cell_type": "markdown",
      "source": [
        " Importing All Functions in a Module\n"
      ],
      "metadata": {
        "id": "DjxmcNPcD_z5"
      }
    },
    {
      "cell_type": "code",
      "source": [
        " from pizza import *\n",
        " make_pizza(16, 'pepperoni')\n",
        " make_pizza(12, 'mushrooms', 'green peppers', 'extra cheese')"
      ],
      "metadata": {
        "colab": {
          "base_uri": "https://localhost:8080/"
        },
        "id": "oaFehitQD4UN",
        "outputId": "1e8d7685-a789-43cc-ae7b-0002b48d7787"
      },
      "execution_count": null,
      "outputs": [
        {
          "output_type": "stream",
          "name": "stdout",
          "text": [
            "\n",
            "Making a 16-inch pizza with the following toppings:\n",
            "- pepperoni\n",
            "\n",
            "Making a 12-inch pizza with the following toppings:\n",
            "- mushrooms\n",
            "- green peppers\n",
            "- extra cheese\n"
          ]
        }
      ]
    },
    {
      "cell_type": "markdown",
      "source": [
        "## Classes"
      ],
      "metadata": {
        "id": "9GVRMeMyEJCr"
      }
    },
    {
      "cell_type": "code",
      "source": [
        "class Dog:\n",
        "  #A simple attempt to model a dog.\"\"\"\n",
        "  def __init__(self, name, age):\n",
        "        #Initialize name and age attributes.\"\"\"\n",
        "    self.name = name\n",
        "    self.age = age\n",
        "  def sit(self):\n",
        "        #Simulate a dog sitting in response to a command.\"\"\"\n",
        "    print(f\"{self.name} is now sitting.\")\n",
        "  def roll_over(self):\n",
        "        #Simulate rolling over in response to a command.\"\"\"\n",
        "    print(f\"{self.name} rolled over!\")"
      ],
      "metadata": {
        "id": "qO8fyttSEK3-"
      },
      "execution_count": 1,
      "outputs": []
    },
    {
      "cell_type": "code",
      "source": [
        "my_dog = Dog('Willie', 6)\n",
        "print(f\"My dog's name is {my_dog.name}.\")\n",
        "print(f\"My dog is {my_dog.age} years old.\")"
      ],
      "metadata": {
        "id": "6o8XVmJitpWf",
        "outputId": "795a4af4-ae17-4d93-ab84-cda423ca9dcc",
        "colab": {
          "base_uri": "https://localhost:8080/"
        }
      },
      "execution_count": 2,
      "outputs": [
        {
          "output_type": "stream",
          "name": "stdout",
          "text": [
            "My dog's name is Willie.\n",
            "My dog is 6 years old.\n"
          ]
        }
      ]
    },
    {
      "cell_type": "code",
      "source": [
        " my_dog.name"
      ],
      "metadata": {
        "id": "g3fGD2cEQNQp",
        "outputId": "edba148c-31de-4db0-a90d-0e8893f51325",
        "colab": {
          "base_uri": "https://localhost:8080/",
          "height": 35
        }
      },
      "execution_count": 3,
      "outputs": [
        {
          "output_type": "execute_result",
          "data": {
            "text/plain": [
              "'Willie'"
            ],
            "application/vnd.google.colaboratory.intrinsic+json": {
              "type": "string"
            }
          },
          "metadata": {},
          "execution_count": 3
        }
      ]
    },
    {
      "cell_type": "code",
      "source": [
        "my_dog.sit()\n",
        "my_dog.roll_over()"
      ],
      "metadata": {
        "id": "AoBu5hSNQOm5",
        "outputId": "63a7b2c8-27d7-49ea-ed59-b895f1465b8d",
        "colab": {
          "base_uri": "https://localhost:8080/"
        }
      },
      "execution_count": 4,
      "outputs": [
        {
          "output_type": "stream",
          "name": "stdout",
          "text": [
            "Willie is now sitting.\n",
            "Willie rolled over!\n"
          ]
        }
      ]
    },
    {
      "cell_type": "markdown",
      "source": [
        " Creating Multiple Instances\n"
      ],
      "metadata": {
        "id": "Kgmd-U7zQVfq"
      }
    },
    {
      "cell_type": "code",
      "source": [
        "my_dog = Dog('Willie', 6)\n",
        "your_dog = Dog('Lucy', 3)\n",
        "print(f\"My dog's name is {my_dog.name}.\")\n",
        "print(f\"My dog is {my_dog.age} years old.\")\n",
        "my_dog.sit()\n",
        "print(f\"\\nYour dog's name is {your_dog.name}.\")\n",
        "print(f\"Your dog is {your_dog.age} years old.\")\n",
        "your_dog.sit()"
      ],
      "metadata": {
        "id": "WNBeaRBlQV_o",
        "outputId": "9daca894-ea60-4829-e69c-8284e12bc4d2",
        "colab": {
          "base_uri": "https://localhost:8080/"
        }
      },
      "execution_count": 5,
      "outputs": [
        {
          "output_type": "stream",
          "name": "stdout",
          "text": [
            "My dog's name is Willie.\n",
            "My dog is 6 years old.\n",
            "Willie is now sitting.\n",
            "\n",
            "Your dog's name is Lucy.\n",
            "Your dog is 3 years old.\n",
            "Lucy is now sitting.\n"
          ]
        }
      ]
    },
    {
      "cell_type": "markdown",
      "source": [
        "Working with Classes and Instances"
      ],
      "metadata": {
        "id": "gQQ_PlhcQc9R"
      }
    },
    {
      "cell_type": "code",
      "source": [
        "class Car:\n",
        "  \"\"\"A simple attempt to represent a car.\"\"\"\n",
        "  def __init__(self, make, model, year):\n",
        "    \"\"\"Initialize attributes to describe a car.\"\"\"\n",
        "    self.make = make\n",
        "    self.model = model\n",
        "    self.year = year\n",
        "  def get_descriptive_name(self):\n",
        "    \"\"\"Return a neatly formatted descriptive name.\"\"\"\n",
        "    long_name = f\"{self.year} {self.make} {self.model}\"\n",
        "    return long_name.title()\n",
        "my_new_car = Car('audi', 'a4', 2019)\n",
        "print(my_new_car.get_descriptive_name())"
      ],
      "metadata": {
        "id": "cxeR0peXQiWI",
        "outputId": "583db99c-b20a-41f1-de10-c3726e9d2e64",
        "colab": {
          "base_uri": "https://localhost:8080/"
        }
      },
      "execution_count": 11,
      "outputs": [
        {
          "output_type": "stream",
          "name": "stdout",
          "text": [
            "2019 Audi A4\n"
          ]
        }
      ]
    },
    {
      "cell_type": "markdown",
      "source": [
        " Setting a Default Value for an Attribute\n"
      ],
      "metadata": {
        "id": "8-lN0ej-RQmx"
      }
    },
    {
      "cell_type": "code",
      "source": [
        "class Car:\n",
        "  \"\"\"A simple attempt to represent a car.\"\"\"\n",
        "  def __init__(self, make, model, year):\n",
        "    \"\"\"Initialize attributes to describe a car.\"\"\"\n",
        "    self.make = make\n",
        "    self.model = model\n",
        "    self.year = year\n",
        "    self.odometer_reading = 0\n",
        "  def get_descriptive_name(self):\n",
        "    \"\"\"Return a neatly formatted descriptive name.\"\"\"\n",
        "    long_name = f\"{self.year} {self.make} {self.model}\"\n",
        "    return long_name.title()\n",
        "  def read_odometer(self):\n",
        "      \"\"\"Print a statement showing the car's mileage.\"\"\"\n",
        "      print(f\"This car has {self.odometer_reading} miles on it.\")\n",
        "my_new_car = Car('audi', 'a4', 2019)\n",
        "print(my_new_car.get_descriptive_name())\n",
        "my_new_car.read_odometer()\n"
      ],
      "metadata": {
        "id": "SR27bOT4RRMh",
        "outputId": "ab2136d5-5371-4ab0-93b9-74ee61ebee03",
        "colab": {
          "base_uri": "https://localhost:8080/"
        }
      },
      "execution_count": 12,
      "outputs": [
        {
          "output_type": "stream",
          "name": "stdout",
          "text": [
            "2019 Audi A4\n",
            "This car has 0 miles on it.\n"
          ]
        }
      ]
    },
    {
      "cell_type": "markdown",
      "source": [
        " Modifying Attribute Values\n"
      ],
      "metadata": {
        "id": "3OMZzjdXRlOa"
      }
    },
    {
      "cell_type": "markdown",
      "source": [
        " Modifying an Attribute’s Value Directly\n"
      ],
      "metadata": {
        "id": "8Uhrtx3CSxyV"
      }
    },
    {
      "cell_type": "code",
      "source": [
        "print(my_new_car.get_descriptive_name())\n",
        "my_new_car.odometer_reading = 23\n",
        "my_new_car.read_odometer()"
      ],
      "metadata": {
        "id": "4f20CNAhRljA",
        "outputId": "0209356a-50d2-41d2-e9a3-7b997372996b",
        "colab": {
          "base_uri": "https://localhost:8080/"
        }
      },
      "execution_count": 14,
      "outputs": [
        {
          "output_type": "stream",
          "name": "stdout",
          "text": [
            "2019 Audi A4\n",
            "This car has 23 miles on it.\n"
          ]
        }
      ]
    },
    {
      "cell_type": "markdown",
      "source": [
        " Modifying an Attribute’s Value Through a Method\n"
      ],
      "metadata": {
        "id": "nSfeoyILRwTk"
      }
    },
    {
      "cell_type": "code",
      "source": [
        "class Car:\n",
        "  \"\"\"A simple attempt to represent a car.\"\"\"\n",
        "  def __init__(self, make, model, year):\n",
        "    \"\"\"Initialize attributes to describe a car.\"\"\"\n",
        "    self.make = make\n",
        "    self.model = model\n",
        "    self.year = year\n",
        "    self.odometer_reading = 0\n",
        "  def get_descriptive_name(self):\n",
        "    \"\"\"Return a neatly formatted descriptive name.\"\"\"\n",
        "    long_name = f\"{self.year} {self.make} {self.model}\"\n",
        "    return long_name.title()\n",
        "  def update_odometer(self, mileage):\n",
        "      \"\"\"Set the odometer reading to the given value.\"\"\"\n",
        "      self.odometer_reading = mileage\n",
        "      print(f\"This car has {self.odometer_reading} miles on it.\")\n",
        "my_new_car = Car('audi', 'a4', 2019)\n",
        "print(my_new_car.get_descriptive_name())\n",
        "my_new_car.update_odometer(23)\n"
      ],
      "metadata": {
        "id": "tTWC25DHRwqY",
        "outputId": "7bdc322b-25e3-429f-b7f5-c51907b076e7",
        "colab": {
          "base_uri": "https://localhost:8080/"
        }
      },
      "execution_count": 17,
      "outputs": [
        {
          "output_type": "stream",
          "name": "stdout",
          "text": [
            "2019 Audi A4\n",
            "This car has 23 miles on it.\n"
          ]
        }
      ]
    },
    {
      "cell_type": "markdown",
      "source": [
        " We can extend the method update_odometer() to do additional work\n",
        "every time the odometer reading is modified. Let’s add a little logic to\n",
        "make sure no one tries to roll back the odometer reading"
      ],
      "metadata": {
        "id": "kXqm51VqVBev"
      }
    },
    {
      "cell_type": "code",
      "source": [
        "class Car:\n",
        "  \"\"\"A simple attempt to represent a car.\"\"\"\n",
        "  def __init__(self, make, model, year):\n",
        "    \"\"\"Initialize attributes to describe a car.\"\"\"\n",
        "    self.make = make\n",
        "    self.model = model\n",
        "    self.year = year\n",
        "    self.odometer_reading = 0\n",
        "  def get_descriptive_name(self):\n",
        "    \"\"\"Return a neatly formatted descriptive name.\"\"\"\n",
        "    long_name = f\"{self.year} {self.make} {self.model}\"\n",
        "    return long_name.title()\n",
        "  def update_odometer(self, mileage):\n",
        "      \"\"\"\n",
        "        Set the odometer reading to the given value.\n",
        "        Reject the change if it attempts to roll the odometer back.\n",
        "      \"\"\"\n",
        "      if mileage >= self.odometer_reading:\n",
        "        self.odometer_reading = mileage\n",
        "      else:\n",
        "        print(\"You can't roll back an odometer!\")\n",
        "      #self.odometer_reading = mileage\n",
        "      #print(f\"This car has {self.odometer_reading} miles on it.\")\n",
        "my_new_car = Car('audi', 'a4', 2019)\n",
        "print(my_new_car.get_descriptive_name())\n",
        "my_new_car.update_odometer(23)\n"
      ],
      "metadata": {
        "id": "a8wM6XNrVB25",
        "outputId": "3c8427f3-9d57-4411-9bff-b9a2d1695fc4",
        "colab": {
          "base_uri": "https://localhost:8080/"
        }
      },
      "execution_count": 23,
      "outputs": [
        {
          "output_type": "stream",
          "name": "stdout",
          "text": [
            "2019 Audi A4\n"
          ]
        }
      ]
    },
    {
      "cell_type": "markdown",
      "source": [
        " Incrementing an Attribute’s Value Through a Method\n"
      ],
      "metadata": {
        "id": "KNKGDFSLV1mS"
      }
    },
    {
      "cell_type": "code",
      "source": [
        "class Car:\n",
        "  \"\"\"A simple attempt to represent a car.\"\"\"\n",
        "  def __init__(self, make, model, year):\n",
        "    \"\"\"Initialize attributes to describe a car.\"\"\"\n",
        "    self.make = make\n",
        "    self.model = model\n",
        "    self.year = year\n",
        "    self.odometer_reading = 0\n",
        "  def get_descriptive_name(self):\n",
        "    \"\"\"Return a neatly formatted descriptive name.\"\"\"\n",
        "    long_name = f\"{self.year} {self.make} {self.model}\"\n",
        "    return long_name.title()\n",
        "  def update_odometer(self, mileage):\n",
        "      \"\"\"\n",
        "        Set the odometer reading to the given value.\n",
        "        Reject the change if it attempts to roll the odometer back.\n",
        "      \"\"\"\n",
        "      if mileage >= self.odometer_reading:\n",
        "        self.odometer_reading = mileage\n",
        "      else:\n",
        "        print(\"You can't roll back an odometer!\")\n",
        "  def increment_odometer(self, miles):\n",
        "      \"\"\"Add the given amount to the odometer reading.\"\"\"\n",
        "      self.odometer_reading += miles\n",
        "      #self.odometer_reading = mileage\n",
        "      #print(f\"This car has {self.odometer_reading} miles on it.\")\n",
        "\n",
        "  def read_odometer(self):\n",
        "      \"\"\"Print a statement showing the car's mileage.\"\"\"\n",
        "      print(f\"This car has {self.odometer_reading} miles on it.\")\n",
        "my_used_car = Car('subaru', 'outback', 2015)\n",
        "print(my_used_car.get_descriptive_name())\n",
        "\n",
        "my_used_car.update_odometer(23_500)\n",
        "my_used_car.read_odometer()\n",
        "\n",
        "my_used_car.increment_odometer(100)\n",
        "my_used_car.read_odometer()"
      ],
      "metadata": {
        "id": "ycDq89lxV16p",
        "outputId": "8bce6779-e1ba-41e5-899c-5bcec5afe1f4",
        "colab": {
          "base_uri": "https://localhost:8080/"
        }
      },
      "execution_count": 25,
      "outputs": [
        {
          "output_type": "stream",
          "name": "stdout",
          "text": [
            "2015 Subaru Outback\n",
            "This car has 23500 miles on it.\n",
            "This car has 23600 miles on it.\n"
          ]
        }
      ]
    }
  ]
}